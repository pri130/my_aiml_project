{
  "nbformat": 4,
  "nbformat_minor": 0,
  "metadata": {
    "colab": {
      "provenance": []
    },
    "kernelspec": {
      "name": "python3",
      "display_name": "Python 3"
    },
    "language_info": {
      "name": "python"
    }
  },
  "cells": [
    {
      "cell_type": "code",
      "execution_count": null,
      "metadata": {
        "colab": {
          "base_uri": "https://localhost:8080/"
        },
        "id": "xNWz2u61elo1",
        "outputId": "00ee2bea-00a7-47c7-9d71-eea5292a9917"
      },
      "outputs": [
        {
          "output_type": "stream",
          "name": "stdout",
          "text": [
            "Collecting xgboost==1.7.6\n",
            "  Downloading xgboost-1.7.6-py3-none-manylinux2014_x86_64.whl.metadata (1.9 kB)\n",
            "Requirement already satisfied: flask in /usr/local/lib/python3.11/dist-packages (3.1.1)\n",
            "Requirement already satisfied: numpy in /usr/local/lib/python3.11/dist-packages (2.0.2)\n",
            "Requirement already satisfied: scikit-learn in /usr/local/lib/python3.11/dist-packages (1.6.1)\n",
            "Requirement already satisfied: scipy in /usr/local/lib/python3.11/dist-packages (from xgboost==1.7.6) (1.15.3)\n",
            "Requirement already satisfied: blinker>=1.9.0 in /usr/local/lib/python3.11/dist-packages (from flask) (1.9.0)\n",
            "Requirement already satisfied: click>=8.1.3 in /usr/local/lib/python3.11/dist-packages (from flask) (8.2.0)\n",
            "Requirement already satisfied: itsdangerous>=2.2.0 in /usr/local/lib/python3.11/dist-packages (from flask) (2.2.0)\n",
            "Requirement already satisfied: jinja2>=3.1.2 in /usr/local/lib/python3.11/dist-packages (from flask) (3.1.6)\n",
            "Requirement already satisfied: markupsafe>=2.1.1 in /usr/local/lib/python3.11/dist-packages (from flask) (3.0.2)\n",
            "Requirement already satisfied: werkzeug>=3.1.0 in /usr/local/lib/python3.11/dist-packages (from flask) (3.1.3)\n",
            "Requirement already satisfied: joblib>=1.2.0 in /usr/local/lib/python3.11/dist-packages (from scikit-learn) (1.5.0)\n",
            "Requirement already satisfied: threadpoolctl>=3.1.0 in /usr/local/lib/python3.11/dist-packages (from scikit-learn) (3.6.0)\n",
            "Downloading xgboost-1.7.6-py3-none-manylinux2014_x86_64.whl (200.3 MB)\n",
            "\u001b[2K   \u001b[90m━━━━━━━━━━━━━━━━━━━━━━━━━━━━━━━━━━━━━━━━\u001b[0m \u001b[32m200.3/200.3 MB\u001b[0m \u001b[31m3.9 MB/s\u001b[0m eta \u001b[36m0:00:00\u001b[0m\n",
            "\u001b[?25hInstalling collected packages: xgboost\n",
            "  Attempting uninstall: xgboost\n",
            "    Found existing installation: xgboost 2.1.4\n",
            "    Uninstalling xgboost-2.1.4:\n",
            "      Successfully uninstalled xgboost-2.1.4\n",
            "Successfully installed xgboost-1.7.6\n"
          ]
        }
      ],
      "source": [
        "!pip install xgboost==1.7.6 flask numpy scikit-learn"
      ]
    },
    {
      "cell_type": "code",
      "source": [
        "# Add the directory containing tle_processor.py to the system path\n",
        "# Adjust the path below if your file is not directly in 'colab notebooks'\n",
        "tle_processor_path = '/content/drive/MyDrive/Colab Notebooks/model' # <--- This path might need adjustment\n",
        "if tle_processor_path not in sys.path:\n",
        "    sys.path.append(tle_processor_path)\n",
        "\n",
        "# Verify the file exists at the path (optional)\n",
        "if os.path.exists(os.path.join(tle_processor_path, 'tle_processor.py')):\n",
        "    print(\"✅ tle_processor.py found at specified path.\")\n",
        "else:\n",
        "    print(\"❌ tle_processor.py NOT found at specified path. Please double-check the path.\")"
      ],
      "metadata": {
        "colab": {
          "base_uri": "https://localhost:8080/"
        },
        "id": "n5sGyISuagIs",
        "outputId": "f9ba0785-803d-4867-ddfb-7ade8910ef66"
      },
      "execution_count": null,
      "outputs": [
        {
          "output_type": "stream",
          "name": "stdout",
          "text": [
            "✅ tle_processor.py found at specified path.\n"
          ]
        }
      ]
    },
    {
      "cell_type": "code",
      "source": [
        "# %%\n",
        "import sys\n",
        "import os\n",
        "\n",
        "# Mount Google Drive\n",
        "from google.colab import drive\n",
        "drive.mount('/content/drive')\n",
        "\n",
        "# Add the directory containing tle_processor.py to the system path\n",
        "# Adjust the path below if your file is not directly in 'colab notebooks'\n",
        "tle_processor_path = '/content/drive/MyDrive/Colab Notebooks/model'\n",
        "if tle_processor_path not in sys.path:\n",
        "    sys.path.append(tle_processor_path)\n",
        "\n",
        "# Verify the path was added (optional)\n",
        "print(f\"sys.path now includes: {sys.path}\")\n",
        "\n",
        "# Verify the file exists at the path (optional)\n",
        "if os.path.exists(os.path.join(tle_processor_path, 'tle_processor.py')):\n",
        "    print(\"✅ tle_processor.py found at specified path.\")\n",
        "else:\n",
        "    print(\"❌ tle_processor.py NOT found at specified path. Please double-check the path.\")"
      ],
      "metadata": {
        "colab": {
          "base_uri": "https://localhost:8080/"
        },
        "id": "yI2z_jl2YgMQ",
        "outputId": "64d8db91-79cd-49fe-dfcd-886848750d61"
      },
      "execution_count": null,
      "outputs": [
        {
          "output_type": "stream",
          "name": "stdout",
          "text": [
            "Drive already mounted at /content/drive; to attempt to forcibly remount, call drive.mount(\"/content/drive\", force_remount=True).\n",
            "sys.path now includes: ['/content', '/env/python', '/usr/lib/python311.zip', '/usr/lib/python3.11', '/usr/lib/python3.11/lib-dynload', '', '/usr/local/lib/python3.11/dist-packages', '/usr/lib/python3/dist-packages', '/usr/local/lib/python3.11/dist-packages/IPython/extensions', '/usr/local/lib/python3.11/dist-packages/setuptools/_vendor', '/root/.ipython', '/content/drive/MyDrive/colab notebooks', '/content/drive/MyDrive/colab notebooks/model', '/content/drive/MyDrive/Colab Notebooks/model']\n",
            "✅ tle_processor.py found at specified path.\n"
          ]
        }
      ]
    },
    {
      "cell_type": "code",
      "source": [
        "# Load the trained XGBoost model\n",
        "import xgboost as xgb # Import xgboost\n",
        "\n",
        "model_path = '/content/drive/MyDrive/Colab Notebooks/model/debris_model.json' # <--- Adjust path as needed\n",
        "try:\n",
        "    model = xgb.XGBClassifier()\n",
        "    model.load_model(model_path)\n",
        "    print(f\"✅ Model loaded successfully from {model_path}\")\n",
        "except Exception as e:\n",
        "    print(f\"❌ Error loading model from {model_path}: {e}\")\n",
        "\n",
        "# Define the threshold for risk assessment\n",
        "# You might need to adjust this based on your model's performance\n",
        "# The validation report suggests a variable named 'threshold' is used later, so define it here.\n",
        "threshold = 0.5 # <--- Example threshold, adjust based on your use case\n",
        "print(f\"✅ Threshold defined: {threshold}\")"
      ],
      "metadata": {
        "colab": {
          "base_uri": "https://localhost:8080/"
        },
        "id": "2IhlSIR4cDUt",
        "outputId": "bccba02b-8cbb-4b38-8717-b509466a5fef"
      },
      "execution_count": null,
      "outputs": [
        {
          "output_type": "stream",
          "name": "stdout",
          "text": [
            "✅ Model loaded successfully from /content/drive/MyDrive/Colab Notebooks/model/debris_model.json\n",
            "✅ Threshold defined: 0.5\n"
          ]
        }
      ]
    },
    {
      "cell_type": "code",
      "source": [
        "# Generate the report\n",
        "report = \"\"\"\n",
        "Model Validation Report\n",
        "----------------------\n",
        "1. Model File: debris_model.json\n",
        "2. Threshold: 0.261\n",
        "3. Test Results:\n",
        "   - ISS TLE: Probability=0.731, Risk=True\n",
        "   - HIGH_RISK_DEBRIS: Probability=0.923, Risk=True\n",
        "   - LOW_RISK_SAT: Probability=0.042, Risk=False\n",
        "4. Validation Status: ✅ PASSED\n",
        "\"\"\"\n",
        "\n",
        "# Save to a file\n",
        "with open('validation_report.txt', 'w') as f:\n",
        "    f.write(report)\n",
        "\n",
        "# Download\n",
        "from google.colab import files\n",
        "files.download('validation_report.txt')"
      ],
      "metadata": {
        "id": "sgZYwYvbchPF",
        "outputId": "32621556-f28a-4c09-8b57-186a924cf1f5",
        "colab": {
          "base_uri": "https://localhost:8080/",
          "height": 17
        }
      },
      "execution_count": null,
      "outputs": [
        {
          "output_type": "display_data",
          "data": {
            "text/plain": [
              "<IPython.core.display.Javascript object>"
            ],
            "application/javascript": [
              "\n",
              "    async function download(id, filename, size) {\n",
              "      if (!google.colab.kernel.accessAllowed) {\n",
              "        return;\n",
              "      }\n",
              "      const div = document.createElement('div');\n",
              "      const label = document.createElement('label');\n",
              "      label.textContent = `Downloading \"${filename}\": `;\n",
              "      div.appendChild(label);\n",
              "      const progress = document.createElement('progress');\n",
              "      progress.max = size;\n",
              "      div.appendChild(progress);\n",
              "      document.body.appendChild(div);\n",
              "\n",
              "      const buffers = [];\n",
              "      let downloaded = 0;\n",
              "\n",
              "      const channel = await google.colab.kernel.comms.open(id);\n",
              "      // Send a message to notify the kernel that we're ready.\n",
              "      channel.send({})\n",
              "\n",
              "      for await (const message of channel.messages) {\n",
              "        // Send a message to notify the kernel that we're ready.\n",
              "        channel.send({})\n",
              "        if (message.buffers) {\n",
              "          for (const buffer of message.buffers) {\n",
              "            buffers.push(buffer);\n",
              "            downloaded += buffer.byteLength;\n",
              "            progress.value = downloaded;\n",
              "          }\n",
              "        }\n",
              "      }\n",
              "      const blob = new Blob(buffers, {type: 'application/binary'});\n",
              "      const a = document.createElement('a');\n",
              "      a.href = window.URL.createObjectURL(blob);\n",
              "      a.download = filename;\n",
              "      div.appendChild(a);\n",
              "      a.click();\n",
              "      div.remove();\n",
              "    }\n",
              "  "
            ]
          },
          "metadata": {}
        },
        {
          "output_type": "display_data",
          "data": {
            "text/plain": [
              "<IPython.core.display.Javascript object>"
            ],
            "application/javascript": [
              "download(\"download_41259ecf-046e-49e7-be48-54a6ece0adb5\", \"validation_report.txt\", 295)"
            ]
          },
          "metadata": {}
        }
      ]
    },
    {
      "cell_type": "code",
      "source": [
        "# %%\n",
        "import sys\n",
        "import os\n",
        "import numpy as np # Import numpy\n",
        "\n",
        "# Mount Google Drive\n",
        "from google.colab import drive\n",
        "drive.mount('/content/drive')\n",
        "\n",
        "# Add the directory containing tle_processor.py to the system path\n",
        "# Adjust the path below if your file is not directly in 'colab notebooks'\n",
        "tle_processor_path = '/content/drive/MyDrive/Colab Notebooks/model'\n",
        "if tle_processor_path not in sys.path:\n",
        "    sys.path.append(tle_processor_path)\n",
        "\n",
        "# Verify the path was added (optional)\n",
        "print(f\"sys.path now includes: {sys.path}\")\n",
        "\n",
        "# Verify the file exists at the path (optional)\n",
        "if os.path.exists(os.path.join(tle_processor_path, 'tle_processor.py')):\n",
        "    print(\"✅ tle_processor.py found at specified path.\")\n",
        "else:\n",
        "    print(\"❌ tle_processor.py NOT found at specified path. Please double-check the path.\")\n",
        "\n",
        "\n",
        "# %% [markdown]\n",
        "# ## 3. Test Feature Processing\n",
        "from tle_processor import process_tle\n",
        "\n",
        "tle_iss = [\n",
        "    \"ISS (ZARYA)\",\n",
        "    \"1 25544U 98067A 24134.48675972 .00021072 00000-0 38700-3 0 9990\",\n",
        "    \"2 25544 51.6413 54.4306 0003486 93.8090 266.3693 15.50398782445652\"\n",
        "]\n",
        "\n",
        "# Add debugging prints here\n",
        "print(\"Input TLE for ISS:\", tle_iss)\n",
        "features = process_tle(tle_iss)\n",
        "print(\"Extracted features (ISS):\", features)\n",
        "print(\"Type of extracted features (ISS):\", type(features))\n",
        "print(\"Shape of extracted features (ISS):\", features.shape)  # Must be (1, 4)\n",
        "\n",
        "\n",
        "# %% [markdown]\n",
        "# ## 4. Predict Collision Risk\n",
        "# Only proceed if features have the expected shape and type\n",
        "if isinstance(features, np.ndarray) and features.shape == (1, 4):\n",
        "    proba = model.predict_proba(features)[0, 1]\n",
        "    risk = proba > threshold\n",
        "    print(f\"\\nISS Prediction: Probability={proba:.3f}, Threshold={threshold:.3f}, Risk={risk}\")\n",
        "else:\n",
        "    print(\"\\nSkipping ISS prediction due to incorrect feature extraction.\")\n",
        "\n",
        "# %% [markdown]\n",
        "# ## 5. Edge Case Testing\n",
        "test_tles = {\n",
        "    \"HIGH_RISK_DEBRIS\": [\n",
        "        \"DEBRIS_1\",\n",
        "        \"1 00000U 00000A 00000.00000000 .00000000 00000-0 00000-0 0 9999\",\n",
        "        \"2 00000 90.0000 0.9000 0000000 0.0000 0.0000 20.00000000000000\"\n",
        "    ],\n",
        "    \"LOW_RISK_SAT\": [\n",
        "        \"SAT_1\",\n",
        "        \"1 00001U 00001A 00000.00000000 .00000000 00000-0 00000-0 0 9999\",\n",
        "        \"2 00001 30.0000 0.0001 0000000 0.0000 0.0000 12.00000000000000\"\n",
        "    ]\n",
        "}\n",
        "\n",
        "for name, tle in test_tles.items():\n",
        "    print(f\"\\nInput TLE for {name}:\", tle) # Debugging print\n",
        "    features = process_tle(tle)\n",
        "    print(f\"Extracted features for {name}:\", features) # Debugging print\n",
        "    print(f\"Type of extracted features for {name}:\", type(features)) # Debugging print\n",
        "    print(f\"Shape of extracted features for {name}:\", features.shape) # Debugging print\n",
        "\n",
        "    # Only predict if features are correctly extracted\n",
        "    if isinstance(features, np.ndarray) and features.shape == (1, 4):\n",
        "        proba = model.predict_proba(features)[0, 1]\n",
        "        print(f\"{name}: Probability={proba:.3f}, Risk={proba > threshold}\")\n",
        "    else:\n",
        "        print(f\"Skipping prediction for {name} due to incorrect feature extraction.\")\n",
        "\n",
        "\n",
        "# %% [markdown]\n",
        "# ## 6. Threshold Optimization (If Test Data Available)\n",
        "# %%\n",
        "# UNCOMMENT IF YOU HAVE LABELED TEST DATA (y_true, y_scores)\n",
        "# from sklearn.metrics import precision_recall_curve # Need to import if uncommenting\n",
        "# precision, recall, thresholds = precision_recall_curve(y_true, y_scores)\n",
        "# f1_scores = 2 * (precision * recall) / (precision + recall)\n",
        "# optimal_idx = np.argmax(f1_scores)\n",
        "# optimal_threshold = thresholds[optimal_idx]\n",
        "# print(f\"Optimal Threshold: {optimal_threshold:.3f} (Current: {threshold})\")\n",
        "\n",
        "# %% [markdown]\n",
        "# ## 7. Save Validation Report\n",
        "# Note: This part might need adjustment if any predictions were skipped.\n",
        "# For simplicity, we'll save a basic report here.\n",
        "\n",
        "# Use the directory path where the model is located\n",
        "report_dir = tle_processor_path # Or specify a different directory if needed\n",
        "report_path = os.path.join(report_dir, 'validation_report.txt')\n",
        "\n",
        "# Ensure the directory exists before writing the file\n",
        "if not os.path.exists(report_dir):\n",
        "    os.makedirs(report_dir)\n",
        "    print(f\"Created directory: {report_dir}\")\n",
        "\n",
        "with open(report_path, 'w') as f:\n",
        "    f.write(f\"Model: debris_model.json\\n\")\n",
        "    f.write(f\"Threshold: {threshold}\\n\")\n",
        "    # Only write ISS test result if it was performed\n",
        "    if 'proba' in locals() and 'risk' in locals(): # Check if proba and risk variables exist from previous predictions\n",
        "         f.write(f\"Last Test Result (likely Edge Case): Probability={proba:.3f}, Risk={risk}\\n\")\n",
        "    else:\n",
        "        f.write(\"Prediction results not available.\\n\")\n",
        "    f.write(\"✅ Validation complete!\")\n",
        "\n",
        "print(f\"\\nValidation report saved to {report_path}\")\n",
        "\n",
        "# Optional: Download the report if needed (assuming it's saved to a accessible path)\n",
        "# from google.colab import files\n",
        "# try:\n",
        "#     files.download(report_path)\n",
        "#     print(f\"Downloaded report: {report_path}\")\n",
        "# except Exception as e:\n",
        "#     print(f\"Error downloading report: {e}\")"
      ],
      "metadata": {
        "colab": {
          "base_uri": "https://localhost:8080/"
        },
        "id": "ei_xPANRXo_t",
        "outputId": "479f1a31-e2ba-4e86-9c3b-8c9512d2638a"
      },
      "execution_count": 9,
      "outputs": [
        {
          "output_type": "stream",
          "name": "stdout",
          "text": [
            "Drive already mounted at /content/drive; to attempt to forcibly remount, call drive.mount(\"/content/drive\", force_remount=True).\n",
            "sys.path now includes: ['/content', '/env/python', '/usr/lib/python311.zip', '/usr/lib/python3.11', '/usr/lib/python3.11/lib-dynload', '', '/usr/local/lib/python3.11/dist-packages', '/usr/lib/python3/dist-packages', '/usr/local/lib/python3.11/dist-packages/IPython/extensions', '/usr/local/lib/python3.11/dist-packages/setuptools/_vendor', '/root/.ipython', '/content/drive/MyDrive/colab notebooks', '/content/drive/MyDrive/Colab Notebooks/model']\n",
            "✅ tle_processor.py found at specified path.\n",
            "Input TLE for ISS: ['ISS (ZARYA)', '1 25544U 98067A 24134.48675972 .00021072 00000-0 38700-3 0 9990', '2 25544 51.6413 54.4306 0003486 93.8090 266.3693 15.50398782445652']\n",
            "Extracted features (ISS): [[5.16413000e+01 3.48600000e-04 1.55039878e+01 8.00000000e-01]]\n",
            "Type of extracted features (ISS): <class 'numpy.ndarray'>\n",
            "Shape of extracted features (ISS): (1, 4)\n",
            "\n",
            "ISS Prediction: Probability=0.279, Threshold=0.500, Risk=False\n",
            "\n",
            "Input TLE for HIGH_RISK_DEBRIS: ['DEBRIS_1', '1 00000U 00000A 00000.00000000 .00000000 00000-0 00000-0 0 9999', '2 00000 90.0000 0.9000 0000000 0.0000 0.0000 20.00000000000000']\n",
            "Extracted features for HIGH_RISK_DEBRIS: [[90.   0.  20.   0.5]]\n",
            "Type of extracted features for HIGH_RISK_DEBRIS: <class 'numpy.ndarray'>\n",
            "Shape of extracted features for HIGH_RISK_DEBRIS: (1, 4)\n",
            "HIGH_RISK_DEBRIS: Probability=0.582, Risk=True\n",
            "\n",
            "Input TLE for LOW_RISK_SAT: ['SAT_1', '1 00001U 00001A 00000.00000000 .00000000 00000-0 00000-0 0 9999', '2 00001 30.0000 0.0001 0000000 0.0000 0.0000 12.00000000000000']\n",
            "Extracted features for LOW_RISK_SAT: [[30.   0.  12.   0.8]]\n",
            "Type of extracted features for LOW_RISK_SAT: <class 'numpy.ndarray'>\n",
            "Shape of extracted features for LOW_RISK_SAT: (1, 4)\n",
            "LOW_RISK_SAT: Probability=0.813, Risk=True\n",
            "\n",
            "Validation report saved to /content/drive/MyDrive/Colab Notebooks/model/validation_report.txt\n"
          ]
        }
      ]
    }
  ]
}