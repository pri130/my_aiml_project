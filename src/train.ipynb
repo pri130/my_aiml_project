{
  "nbformat": 4,
  "nbformat_minor": 0,
  "metadata": {
    "colab": {
      "provenance": []
    },
    "kernelspec": {
      "name": "python3",
      "display_name": "Python 3"
    },
    "language_info": {
      "name": "python"
    }
  },
  "cells": [
    {
      "cell_type": "code",
      "execution_count": null,
      "metadata": {
        "colab": {
          "base_uri": "https://localhost:8080/",
          "height": 908
        },
        "id": "HnMzkqddbkyx",
        "outputId": "df61727b-54ee-4c3e-e1b3-e3a009717448"
      },
      "outputs": [
        {
          "output_type": "display_data",
          "data": {
            "text/plain": [
              "<IPython.core.display.HTML object>"
            ],
            "text/html": [
              "\n",
              "     <input type=\"file\" id=\"files-183b5854-a0be-4cc3-a714-f94a29e1480c\" name=\"files[]\" multiple disabled\n",
              "        style=\"border:none\" />\n",
              "     <output id=\"result-183b5854-a0be-4cc3-a714-f94a29e1480c\">\n",
              "      Upload widget is only available when the cell has been executed in the\n",
              "      current browser session. Please rerun this cell to enable.\n",
              "      </output>\n",
              "      <script>// Copyright 2017 Google LLC\n",
              "//\n",
              "// Licensed under the Apache License, Version 2.0 (the \"License\");\n",
              "// you may not use this file except in compliance with the License.\n",
              "// You may obtain a copy of the License at\n",
              "//\n",
              "//      http://www.apache.org/licenses/LICENSE-2.0\n",
              "//\n",
              "// Unless required by applicable law or agreed to in writing, software\n",
              "// distributed under the License is distributed on an \"AS IS\" BASIS,\n",
              "// WITHOUT WARRANTIES OR CONDITIONS OF ANY KIND, either express or implied.\n",
              "// See the License for the specific language governing permissions and\n",
              "// limitations under the License.\n",
              "\n",
              "/**\n",
              " * @fileoverview Helpers for google.colab Python module.\n",
              " */\n",
              "(function(scope) {\n",
              "function span(text, styleAttributes = {}) {\n",
              "  const element = document.createElement('span');\n",
              "  element.textContent = text;\n",
              "  for (const key of Object.keys(styleAttributes)) {\n",
              "    element.style[key] = styleAttributes[key];\n",
              "  }\n",
              "  return element;\n",
              "}\n",
              "\n",
              "// Max number of bytes which will be uploaded at a time.\n",
              "const MAX_PAYLOAD_SIZE = 100 * 1024;\n",
              "\n",
              "function _uploadFiles(inputId, outputId) {\n",
              "  const steps = uploadFilesStep(inputId, outputId);\n",
              "  const outputElement = document.getElementById(outputId);\n",
              "  // Cache steps on the outputElement to make it available for the next call\n",
              "  // to uploadFilesContinue from Python.\n",
              "  outputElement.steps = steps;\n",
              "\n",
              "  return _uploadFilesContinue(outputId);\n",
              "}\n",
              "\n",
              "// This is roughly an async generator (not supported in the browser yet),\n",
              "// where there are multiple asynchronous steps and the Python side is going\n",
              "// to poll for completion of each step.\n",
              "// This uses a Promise to block the python side on completion of each step,\n",
              "// then passes the result of the previous step as the input to the next step.\n",
              "function _uploadFilesContinue(outputId) {\n",
              "  const outputElement = document.getElementById(outputId);\n",
              "  const steps = outputElement.steps;\n",
              "\n",
              "  const next = steps.next(outputElement.lastPromiseValue);\n",
              "  return Promise.resolve(next.value.promise).then((value) => {\n",
              "    // Cache the last promise value to make it available to the next\n",
              "    // step of the generator.\n",
              "    outputElement.lastPromiseValue = value;\n",
              "    return next.value.response;\n",
              "  });\n",
              "}\n",
              "\n",
              "/**\n",
              " * Generator function which is called between each async step of the upload\n",
              " * process.\n",
              " * @param {string} inputId Element ID of the input file picker element.\n",
              " * @param {string} outputId Element ID of the output display.\n",
              " * @return {!Iterable<!Object>} Iterable of next steps.\n",
              " */\n",
              "function* uploadFilesStep(inputId, outputId) {\n",
              "  const inputElement = document.getElementById(inputId);\n",
              "  inputElement.disabled = false;\n",
              "\n",
              "  const outputElement = document.getElementById(outputId);\n",
              "  outputElement.innerHTML = '';\n",
              "\n",
              "  const pickedPromise = new Promise((resolve) => {\n",
              "    inputElement.addEventListener('change', (e) => {\n",
              "      resolve(e.target.files);\n",
              "    });\n",
              "  });\n",
              "\n",
              "  const cancel = document.createElement('button');\n",
              "  inputElement.parentElement.appendChild(cancel);\n",
              "  cancel.textContent = 'Cancel upload';\n",
              "  const cancelPromise = new Promise((resolve) => {\n",
              "    cancel.onclick = () => {\n",
              "      resolve(null);\n",
              "    };\n",
              "  });\n",
              "\n",
              "  // Wait for the user to pick the files.\n",
              "  const files = yield {\n",
              "    promise: Promise.race([pickedPromise, cancelPromise]),\n",
              "    response: {\n",
              "      action: 'starting',\n",
              "    }\n",
              "  };\n",
              "\n",
              "  cancel.remove();\n",
              "\n",
              "  // Disable the input element since further picks are not allowed.\n",
              "  inputElement.disabled = true;\n",
              "\n",
              "  if (!files) {\n",
              "    return {\n",
              "      response: {\n",
              "        action: 'complete',\n",
              "      }\n",
              "    };\n",
              "  }\n",
              "\n",
              "  for (const file of files) {\n",
              "    const li = document.createElement('li');\n",
              "    li.append(span(file.name, {fontWeight: 'bold'}));\n",
              "    li.append(span(\n",
              "        `(${file.type || 'n/a'}) - ${file.size} bytes, ` +\n",
              "        `last modified: ${\n",
              "            file.lastModifiedDate ? file.lastModifiedDate.toLocaleDateString() :\n",
              "                                    'n/a'} - `));\n",
              "    const percent = span('0% done');\n",
              "    li.appendChild(percent);\n",
              "\n",
              "    outputElement.appendChild(li);\n",
              "\n",
              "    const fileDataPromise = new Promise((resolve) => {\n",
              "      const reader = new FileReader();\n",
              "      reader.onload = (e) => {\n",
              "        resolve(e.target.result);\n",
              "      };\n",
              "      reader.readAsArrayBuffer(file);\n",
              "    });\n",
              "    // Wait for the data to be ready.\n",
              "    let fileData = yield {\n",
              "      promise: fileDataPromise,\n",
              "      response: {\n",
              "        action: 'continue',\n",
              "      }\n",
              "    };\n",
              "\n",
              "    // Use a chunked sending to avoid message size limits. See b/62115660.\n",
              "    let position = 0;\n",
              "    do {\n",
              "      const length = Math.min(fileData.byteLength - position, MAX_PAYLOAD_SIZE);\n",
              "      const chunk = new Uint8Array(fileData, position, length);\n",
              "      position += length;\n",
              "\n",
              "      const base64 = btoa(String.fromCharCode.apply(null, chunk));\n",
              "      yield {\n",
              "        response: {\n",
              "          action: 'append',\n",
              "          file: file.name,\n",
              "          data: base64,\n",
              "        },\n",
              "      };\n",
              "\n",
              "      let percentDone = fileData.byteLength === 0 ?\n",
              "          100 :\n",
              "          Math.round((position / fileData.byteLength) * 100);\n",
              "      percent.textContent = `${percentDone}% done`;\n",
              "\n",
              "    } while (position < fileData.byteLength);\n",
              "  }\n",
              "\n",
              "  // All done.\n",
              "  yield {\n",
              "    response: {\n",
              "      action: 'complete',\n",
              "    }\n",
              "  };\n",
              "}\n",
              "\n",
              "scope.google = scope.google || {};\n",
              "scope.google.colab = scope.google.colab || {};\n",
              "scope.google.colab._files = {\n",
              "  _uploadFiles,\n",
              "  _uploadFilesContinue,\n",
              "};\n",
              "})(self);\n",
              "</script> "
            ]
          },
          "metadata": {}
        },
        {
          "output_type": "stream",
          "name": "stdout",
          "text": [
            "Saving tle_features.npz to tle_features (2).npz\n",
            "\n",
            "Uploaded files:\n",
            "- tle_features (2).npz (9.0 KB)\n",
            "\n",
            "Loading from: tle_features.npz\n",
            "\n",
            "Loaded 271 samples with 3 features\n",
            "Sample features: [4.29993000e+01 1.52800000e-04 1.54075956e+01]\n",
            "Sample label: 1\n",
            "\n",
            "Training model...\n",
            "Class weights: {0: np.float64(0.972972972972973), 1: np.float64(1.0285714285714285)}\n",
            "Epoch 1/15\n"
          ]
        },
        {
          "output_type": "stream",
          "name": "stderr",
          "text": [
            "/usr/local/lib/python3.11/dist-packages/keras/src/layers/rnn/rnn.py:200: UserWarning: Do not pass an `input_shape`/`input_dim` argument to a layer. When using Sequential models, prefer using an `Input(shape)` object as the first layer in the model instead.\n",
            "  super().__init__(**kwargs)\n"
          ]
        },
        {
          "output_type": "stream",
          "name": "stdout",
          "text": [
            "\u001b[1m27/27\u001b[0m \u001b[32m━━━━━━━━━━━━━━━━━━━━\u001b[0m\u001b[37m\u001b[0m \u001b[1m3s\u001b[0m 27ms/step - Precision: 0.4469 - Recall: 0.9973 - loss: 0.7847 - val_Precision: 0.5185 - val_Recall: 0.9655 - val_loss: 0.6943\n",
            "Epoch 2/15\n",
            "\u001b[1m27/27\u001b[0m \u001b[32m━━━━━━━━━━━━━━━━━━━━\u001b[0m\u001b[37m\u001b[0m \u001b[1m0s\u001b[0m 6ms/step - Precision: 0.5044 - Recall: 0.9520 - loss: 0.6967 - val_Precision: 0.4706 - val_Recall: 0.2759 - val_loss: 0.6950\n",
            "Epoch 3/15\n",
            "\u001b[1m27/27\u001b[0m \u001b[32m━━━━━━━━━━━━━━━━━━━━\u001b[0m\u001b[37m\u001b[0m \u001b[1m0s\u001b[0m 6ms/step - Precision: 0.0655 - Recall: 0.0143 - loss: 0.6958 - val_Precision: 0.5185 - val_Recall: 0.9655 - val_loss: 0.6933\n",
            "Epoch 4/15\n",
            "\u001b[1m27/27\u001b[0m \u001b[32m━━━━━━━━━━━━━━━━━━━━\u001b[0m\u001b[37m\u001b[0m \u001b[1m0s\u001b[0m 6ms/step - Precision: 0.4339 - Recall: 0.8254 - loss: 0.6954 - val_Precision: 0.5185 - val_Recall: 0.9655 - val_loss: 0.6930\n",
            "Epoch 5/15\n",
            "\u001b[1m27/27\u001b[0m \u001b[32m━━━━━━━━━━━━━━━━━━━━\u001b[0m\u001b[37m\u001b[0m \u001b[1m0s\u001b[0m 6ms/step - Precision: 0.4583 - Recall: 0.7185 - loss: 0.6950 - val_Precision: 0.5000 - val_Recall: 0.3103 - val_loss: 0.6934\n",
            "Epoch 6/15\n",
            "\u001b[1m27/27\u001b[0m \u001b[32m━━━━━━━━━━━━━━━━━━━━\u001b[0m\u001b[37m\u001b[0m \u001b[1m0s\u001b[0m 7ms/step - Precision: 0.4897 - Recall: 0.8234 - loss: 0.6957 - val_Precision: 0.5273 - val_Recall: 1.0000 - val_loss: 0.6917\n",
            "Epoch 7/15\n",
            "\u001b[1m27/27\u001b[0m \u001b[32m━━━━━━━━━━━━━━━━━━━━\u001b[0m\u001b[37m\u001b[0m \u001b[1m0s\u001b[0m 6ms/step - Precision: 0.4886 - Recall: 0.4622 - loss: 0.6953 - val_Precision: 1.0000 - val_Recall: 0.0345 - val_loss: 0.6945\n",
            "Epoch 8/15\n",
            "\u001b[1m27/27\u001b[0m \u001b[32m━━━━━━━━━━━━━━━━━━━━\u001b[0m\u001b[37m\u001b[0m \u001b[1m0s\u001b[0m 6ms/step - Precision: 0.0339 - Recall: 0.0058 - loss: 0.6923 - val_Precision: 0.5273 - val_Recall: 1.0000 - val_loss: 0.6918\n",
            "Epoch 9/15\n",
            "\u001b[1m27/27\u001b[0m \u001b[32m━━━━━━━━━━━━━━━━━━━━\u001b[0m\u001b[37m\u001b[0m \u001b[1m0s\u001b[0m 6ms/step - Precision: 0.5440 - Recall: 1.0000 - loss: 0.6946 - val_Precision: 0.5263 - val_Recall: 0.3448 - val_loss: 0.6913\n",
            "Epoch 10/15\n",
            "\u001b[1m27/27\u001b[0m \u001b[32m━━━━━━━━━━━━━━━━━━━━\u001b[0m\u001b[37m\u001b[0m \u001b[1m0s\u001b[0m 6ms/step - Precision: 0.2511 - Recall: 0.0365 - loss: 0.6940 - val_Precision: 1.0000 - val_Recall: 0.0345 - val_loss: 0.6920\n",
            "Epoch 11/15\n",
            "\u001b[1m27/27\u001b[0m \u001b[32m━━━━━━━━━━━━━━━━━━━━\u001b[0m\u001b[37m\u001b[0m \u001b[1m0s\u001b[0m 6ms/step - Precision: 0.8839 - Recall: 0.0481 - loss: 0.6904 - val_Precision: 1.0000 - val_Recall: 0.0345 - val_loss: 0.6908\n",
            "Epoch 12/15\n",
            "\u001b[1m27/27\u001b[0m \u001b[32m━━━━━━━━━━━━━━━━━━━━\u001b[0m\u001b[37m\u001b[0m \u001b[1m0s\u001b[0m 7ms/step - Precision: 0.5350 - Recall: 0.6125 - loss: 0.6921 - val_Precision: 0.5000 - val_Recall: 0.3448 - val_loss: 0.6899\n",
            "Epoch 13/15\n",
            "\u001b[1m27/27\u001b[0m \u001b[32m━━━━━━━━━━━━━━━━━━━━\u001b[0m\u001b[37m\u001b[0m \u001b[1m0s\u001b[0m 6ms/step - Precision: 0.5428 - Recall: 0.2793 - loss: 0.6946 - val_Precision: 0.5273 - val_Recall: 1.0000 - val_loss: 0.6889\n",
            "Epoch 14/15\n",
            "\u001b[1m27/27\u001b[0m \u001b[32m━━━━━━━━━━━━━━━━━━━━\u001b[0m\u001b[37m\u001b[0m \u001b[1m0s\u001b[0m 7ms/step - Precision: 0.4802 - Recall: 0.3320 - loss: 0.6930 - val_Precision: 1.0000 - val_Recall: 0.0345 - val_loss: 0.6908\n",
            "Epoch 15/15\n",
            "\u001b[1m27/27\u001b[0m \u001b[32m━━━━━━━━━━━━━━━━━━━━\u001b[0m\u001b[37m\u001b[0m \u001b[1m0s\u001b[0m 7ms/step - Precision: 0.2517 - Recall: 0.1236 - loss: 0.6935 - val_Precision: 1.0000 - val_Recall: 0.0345 - val_loss: 0.6898\n"
          ]
        },
        {
          "output_type": "stream",
          "name": "stderr",
          "text": [
            "WARNING:absl:You are saving your model as an HDF5 file via `model.save()` or `keras.saving.save_model(model)`. This file format is considered legacy. We recommend using instead the native Keras format, e.g. `model.save('my_model.keras')` or `keras.saving.save_model(model, 'my_model.keras')`. \n"
          ]
        },
        {
          "output_type": "stream",
          "name": "stdout",
          "text": [
            "\n",
            "✅ Model saved as debris_collision_model.h5\n"
          ]
        },
        {
          "output_type": "display_data",
          "data": {
            "text/plain": [
              "<IPython.core.display.Javascript object>"
            ],
            "application/javascript": [
              "\n",
              "    async function download(id, filename, size) {\n",
              "      if (!google.colab.kernel.accessAllowed) {\n",
              "        return;\n",
              "      }\n",
              "      const div = document.createElement('div');\n",
              "      const label = document.createElement('label');\n",
              "      label.textContent = `Downloading \"${filename}\": `;\n",
              "      div.appendChild(label);\n",
              "      const progress = document.createElement('progress');\n",
              "      progress.max = size;\n",
              "      div.appendChild(progress);\n",
              "      document.body.appendChild(div);\n",
              "\n",
              "      const buffers = [];\n",
              "      let downloaded = 0;\n",
              "\n",
              "      const channel = await google.colab.kernel.comms.open(id);\n",
              "      // Send a message to notify the kernel that we're ready.\n",
              "      channel.send({})\n",
              "\n",
              "      for await (const message of channel.messages) {\n",
              "        // Send a message to notify the kernel that we're ready.\n",
              "        channel.send({})\n",
              "        if (message.buffers) {\n",
              "          for (const buffer of message.buffers) {\n",
              "            buffers.push(buffer);\n",
              "            downloaded += buffer.byteLength;\n",
              "            progress.value = downloaded;\n",
              "          }\n",
              "        }\n",
              "      }\n",
              "      const blob = new Blob(buffers, {type: 'application/binary'});\n",
              "      const a = document.createElement('a');\n",
              "      a.href = window.URL.createObjectURL(blob);\n",
              "      a.download = filename;\n",
              "      div.appendChild(a);\n",
              "      a.click();\n",
              "      div.remove();\n",
              "    }\n",
              "  "
            ]
          },
          "metadata": {}
        },
        {
          "output_type": "display_data",
          "data": {
            "text/plain": [
              "<IPython.core.display.Javascript object>"
            ],
            "application/javascript": [
              "download(\"download_4ca7c151-42c3-4808-8e84-7929fec0bf60\", \"debris_collision_model.h5\", 76752)"
            ]
          },
          "metadata": {}
        }
      ],
      "source": [
        "# ======================\n",
        "# 1. UPLOAD FILES (Run this first)\n",
        "# ======================\n",
        "from google.colab import files\n",
        "import os\n",
        "\n",
        "# Upload interface\n",
        "uploaded = files.upload()\n",
        "\n",
        "# Verify upload\n",
        "print(\"\\nUploaded files:\")\n",
        "for filename in uploaded.keys():\n",
        "    print(f\"- {filename} ({os.path.getsize(filename)/1024:.1f} KB)\")\n",
        "\n",
        "# ======================\n",
        "# 2. LOAD DATA (Adapted to your files)\n",
        "# ======================\n",
        "import numpy as np\n",
        "\n",
        "def load_data():\n",
        "    # Check which files exist\n",
        "    available_files = [f for f in ['tle_features.npz', 'cleaned_tles.txt'] if os.path.exists(f)]\n",
        "\n",
        "    if not available_files:\n",
        "        raise FileNotFoundError(\"No data files found. Please upload either:\\n\"\n",
        "                             \"- tle_features.npz (preprocessed)\\n\"\n",
        "                             \"- cleaned_tles.txt (raw TLEs)\")\n",
        "\n",
        "    print(f\"\\nLoading from: {available_files[0]}\")\n",
        "\n",
        "    if 'tle_features.npz' in available_files:\n",
        "        # Case 1: Load preprocessed data\n",
        "        data = np.load('tle_features.npz')\n",
        "        return data['features'], data['labels']\n",
        "    else:\n",
        "        # Case 2: Process raw TLEs\n",
        "        from collections import defaultdict\n",
        "        features = []\n",
        "\n",
        "        with open('cleaned_tles.txt') as f:\n",
        "            lines = [line.strip() for line in f if line.strip()]\n",
        "\n",
        "        for i in range(0, len(lines), 3):\n",
        "            try:\n",
        "                line2 = lines[i+2].split()\n",
        "                features.append([\n",
        "                    float(line2[2]),      # inclination\n",
        "                    float(line2[4])/1e7,  # eccentricity\n",
        "                    float(line2[7])       # mean motion\n",
        "                ])\n",
        "            except:\n",
        "                continue\n",
        "\n",
        "        features = np.array(features)\n",
        "        labels = np.ones(len(features))  # Dummy labels (replace with real data)\n",
        "        return features, labels\n",
        "\n",
        "# Safe loading\n",
        "try:\n",
        "    X, y = load_data()\n",
        "    print(f\"\\nLoaded {len(X)} samples with {X.shape[1]} features\")\n",
        "    print(\"Sample features:\", X[0])\n",
        "    print(\"Sample label:\", y[0])\n",
        "except Exception as e:\n",
        "    print(f\"\\n❌ Error: {str(e)}\")\n",
        "\n",
        "# ======================\n",
        "# 3. TRAIN MODEL (Fixed Version)\n",
        "# ======================\n",
        "if 'X' in locals():\n",
        "    import tensorflow as tf\n",
        "    from sklearn.model_selection import train_test_split\n",
        "    from sklearn.utils import class_weight # Correct indentation\n",
        "\n",
        "    # Fix 1: Proper reshaping for LSTM\n",
        "    X_reshaped = X.reshape(X.shape[0], X.shape[1], 1)  # (samples, timesteps, features)\n",
        "\n",
        "    # Fix 2: Simplified model architecture\n",
        "    model = tf.keras.Sequential([\n",
        "        tf.keras.layers.LSTM(32, input_shape=(X.shape[1], 1)),  # 3 timesteps, 1 feature each\n",
        "        tf.keras.layers.Dense(1, activation='sigmoid')\n",
        "    ])\n",
        "\n",
        "    # Fix 3: Enhanced training setup\n",
        "    model.compile(\n",
        "        optimizer=tf.keras.optimizers.Adam(learning_rate=0.001),\n",
        "        loss='binary_crossentropy',\n",
        "        metrics=['Recall', 'Precision']\n",
        "    )\n",
        "\n",
        "    print(\"\\nTraining model...\")\n",
        "    # Split data into training and testing sets\n",
        "    X_train, X_test, y_train, y_test = train_test_split(X_reshaped, y, test_size=0.2, random_state=42)\n",
        "\n",
        "    #Calculate Class weights\n",
        "    class_weights = class_weight.compute_class_weight(\n",
        "        'balanced',\n",
        "        classes=np.unique(y_train),\n",
        "        y=y_train\n",
        "    )\n",
        "    class_weights = dict(enumerate(class_weights))\n",
        "    print(f\"Class weights: {class_weights}\")  # Should show {0: X, 1: Y}\n",
        "\n",
        "\n",
        "    history = model.fit(\n",
        "    X_train, y_train,\n",
        "    class_weight=class_weights,  # 🔧 Add this line\n",
        "    epochs=15,\n",
        "    batch_size=8,\n",
        "    validation_data=(X_test, y_test)\n",
        "    )\n",
        "\n",
        "    # Save model (HDF5 format)\n",
        "    model.save('debris_collision_model.h5')\n",
        "    print(\"\\n✅ Model saved as debris_collision_model.h5\")\n",
        "\n",
        "    # Download everything\n",
        "    from google.colab import files\n",
        "    files.download('debris_collision_model.h5')\n",
        "else:\n",
        "    print(\"\\n⚠️ Training skipped due to data loading issues\")"
      ]
    },
    {
      "cell_type": "code",
      "source": [
        "print(f\"Weight for class 0 (Low Risk): {class_weights[0]:.2f}\")\n",
        "print(f\"Weight for class 1 (High Risk): {class_weights[1]:.2f}\")"
      ],
      "metadata": {
        "colab": {
          "base_uri": "https://localhost:8080/"
        },
        "id": "WysviWHiJlux",
        "outputId": "46eb4a5f-95b2-4328-b7e3-087cdc34f9ea"
      },
      "execution_count": null,
      "outputs": [
        {
          "output_type": "stream",
          "name": "stdout",
          "text": [
            "Weight for class 0 (Low Risk): 0.97\n",
            "Weight for class 1 (High Risk): 1.03\n"
          ]
        }
      ]
    },
    {
      "cell_type": "code",
      "source": [
        "import tensorflow as tf\n",
        "from sklearn.model_selection import train_test_split\n",
        "\n",
        "# Load saved model\n",
        "model = tf.keras.models.load_model('debris_collision_model.h5')\n",
        "\n",
        "# Assume X and y are loaded as in the training phase\n",
        "X_train, X_test, y_train, y_test = train_test_split(X, y, test_size=0.2, random_state=42)\n",
        "\n",
        "# Reshape X_test similar to X_train during training\n",
        "X_test = X_test.reshape(X_test.shape[0], X_test.shape[1], 1)\n",
        "\n",
        "# Re-compile the model with the same metrics\n",
        "model.compile(loss='binary_crossentropy', metrics=['Recall', 'Precision'])\n",
        "\n",
        "# Generate predictions\n",
        "y_pred = (model.predict(X_test) > 0.5).astype(int)\n",
        "\n",
        "# Advanced metrics\n",
        "from sklearn.metrics import classification_report\n",
        "print(classification_report(y_test, y_pred, target_names=['Low Risk', 'High Risk']))"
      ],
      "metadata": {
        "colab": {
          "base_uri": "https://localhost:8080/"
        },
        "id": "ef8R8YDg9PFR",
        "outputId": "048c4b84-e553-47d2-ecb7-51115cc0fccf"
      },
      "execution_count": null,
      "outputs": [
        {
          "output_type": "stream",
          "name": "stderr",
          "text": [
            "WARNING:absl:Compiled the loaded model, but the compiled metrics have yet to be built. `model.compile_metrics` will be empty until you train or evaluate the model.\n"
          ]
        },
        {
          "output_type": "stream",
          "name": "stdout",
          "text": [
            "\u001b[1m2/2\u001b[0m \u001b[32m━━━━━━━━━━━━━━━━━━━━\u001b[0m\u001b[37m\u001b[0m \u001b[1m0s\u001b[0m 178ms/step\n",
            "              precision    recall  f1-score   support\n",
            "\n",
            "    Low Risk       0.48      1.00      0.65        26\n",
            "   High Risk       1.00      0.03      0.07        29\n",
            "\n",
            "    accuracy                           0.49        55\n",
            "   macro avg       0.74      0.52      0.36        55\n",
            "weighted avg       0.75      0.49      0.34        55\n",
            "\n"
          ]
        }
      ]
    },
    {
      "cell_type": "code",
      "source": [
        "# ======================\n",
        "# 📊 LABEL ANALYSIS\n",
        "# ======================\n",
        "import numpy as np\n",
        "unique, counts = np.unique(y, return_counts=True)\n",
        "print(f\"Label counts: {dict(zip(unique, counts))}\")\n",
        "print(f\"Class ratio (Low Risk/High Risk): {counts[0]/counts[1]:.2f}\")"
      ],
      "metadata": {
        "colab": {
          "base_uri": "https://localhost:8080/"
        },
        "id": "qNgmD4rBOY24",
        "outputId": "6ce68200-d012-4e58-9f15-9b2e2ecf737f"
      },
      "execution_count": null,
      "outputs": [
        {
          "output_type": "stream",
          "name": "stdout",
          "text": [
            "Label counts: {np.int64(0): np.int64(137), np.int64(1): np.int64(134)}\n",
            "Class ratio (Low Risk/High Risk): 1.02\n"
          ]
        }
      ]
    },
    {
      "cell_type": "code",
      "source": [
        "# Get predicted probabilities and binary classes\n",
        "# Reshape X before prediction\n",
        "X_reshaped = X.reshape(X.shape[0], X.shape[1], 1)\n",
        "y_probs = model.predict(X_reshaped)  # Use the reshaped X\n",
        "y_pred = (y_probs > 0.1).astype(int)  # Threshold at 0.5\n",
        "\n",
        "# For high-recall requirements (reduce threshold)\n",
        "y_pred_high_recall = (y_probs > 0.3).astype(int)"
      ],
      "metadata": {
        "colab": {
          "base_uri": "https://localhost:8080/"
        },
        "id": "zC1WBqsOFxPJ",
        "outputId": "bbc72887-6ba1-472e-d025-9c49a53eb02c"
      },
      "execution_count": null,
      "outputs": [
        {
          "output_type": "stream",
          "name": "stdout",
          "text": [
            "\u001b[1m9/9\u001b[0m \u001b[32m━━━━━━━━━━━━━━━━━━━━\u001b[0m\u001b[37m\u001b[0m \u001b[1m0s\u001b[0m 4ms/step \n"
          ]
        }
      ]
    },
    {
      "cell_type": "code",
      "source": [
        "from sklearn.metrics import classification_report, recall_score\n",
        "\n",
        "print(\"Standard Threshold (0.5):\")\n",
        "print(classification_report(y, y_pred, target_names=['Low Risk', 'High Risk']))\n",
        "\n",
        "print(\"\\nHigh-Recall Threshold (0.3):\")\n",
        "print(classification_report(y, y_pred_high_recall))"
      ],
      "metadata": {
        "colab": {
          "base_uri": "https://localhost:8080/"
        },
        "id": "fkqDchG5FxMi",
        "outputId": "f134d7f1-08a1-41bf-9888-31ee6366547b"
      },
      "execution_count": null,
      "outputs": [
        {
          "output_type": "stream",
          "name": "stdout",
          "text": [
            "Standard Threshold (0.5):\n",
            "              precision    recall  f1-score   support\n",
            "\n",
            "    Low Risk       0.00      0.00      0.00       137\n",
            "   High Risk       0.49      1.00      0.66       134\n",
            "\n",
            "    accuracy                           0.49       271\n",
            "   macro avg       0.25      0.50      0.33       271\n",
            "weighted avg       0.24      0.49      0.33       271\n",
            "\n",
            "\n",
            "High-Recall Threshold (0.3):\n",
            "              precision    recall  f1-score   support\n",
            "\n",
            "           0       0.00      0.00      0.00       137\n",
            "           1       0.49      1.00      0.66       134\n",
            "\n",
            "    accuracy                           0.49       271\n",
            "   macro avg       0.25      0.50      0.33       271\n",
            "weighted avg       0.24      0.49      0.33       271\n",
            "\n"
          ]
        },
        {
          "output_type": "stream",
          "name": "stderr",
          "text": [
            "/usr/local/lib/python3.11/dist-packages/sklearn/metrics/_classification.py:1565: UndefinedMetricWarning: Precision is ill-defined and being set to 0.0 in labels with no predicted samples. Use `zero_division` parameter to control this behavior.\n",
            "  _warn_prf(average, modifier, f\"{metric.capitalize()} is\", len(result))\n",
            "/usr/local/lib/python3.11/dist-packages/sklearn/metrics/_classification.py:1565: UndefinedMetricWarning: Precision is ill-defined and being set to 0.0 in labels with no predicted samples. Use `zero_division` parameter to control this behavior.\n",
            "  _warn_prf(average, modifier, f\"{metric.capitalize()} is\", len(result))\n",
            "/usr/local/lib/python3.11/dist-packages/sklearn/metrics/_classification.py:1565: UndefinedMetricWarning: Precision is ill-defined and being set to 0.0 in labels with no predicted samples. Use `zero_division` parameter to control this behavior.\n",
            "  _warn_prf(average, modifier, f\"{metric.capitalize()} is\", len(result))\n",
            "/usr/local/lib/python3.11/dist-packages/sklearn/metrics/_classification.py:1565: UndefinedMetricWarning: Precision is ill-defined and being set to 0.0 in labels with no predicted samples. Use `zero_division` parameter to control this behavior.\n",
            "  _warn_prf(average, modifier, f\"{metric.capitalize()} is\", len(result))\n",
            "/usr/local/lib/python3.11/dist-packages/sklearn/metrics/_classification.py:1565: UndefinedMetricWarning: Precision is ill-defined and being set to 0.0 in labels with no predicted samples. Use `zero_division` parameter to control this behavior.\n",
            "  _warn_prf(average, modifier, f\"{metric.capitalize()} is\", len(result))\n",
            "/usr/local/lib/python3.11/dist-packages/sklearn/metrics/_classification.py:1565: UndefinedMetricWarning: Precision is ill-defined and being set to 0.0 in labels with no predicted samples. Use `zero_division` parameter to control this behavior.\n",
            "  _warn_prf(average, modifier, f\"{metric.capitalize()} is\", len(result))\n"
          ]
        }
      ]
    },
    {
      "cell_type": "code",
      "source": [
        "# ======================\n",
        "# 📊 FEATURE ANALYSIS\n",
        "# ======================\n",
        "import pandas as pd\n",
        "feature_stats = pd.DataFrame(X).groupby(y).mean()\n",
        "print(\"Mean features by class:\")\n",
        "print(feature_stats)"
      ],
      "metadata": {
        "colab": {
          "base_uri": "https://localhost:8080/"
        },
        "id": "aa68txd7OrPw",
        "outputId": "aa30eb88-fe7c-434a-ac2e-f71ef774adcc"
      },
      "execution_count": null,
      "outputs": [
        {
          "output_type": "stream",
          "name": "stdout",
          "text": [
            "Mean features by class:\n",
            "           0         1          2\n",
            "0  49.476618  0.000311  15.525664\n",
            "1  48.338933  0.011180  15.234639\n"
          ]
        }
      ]
    },
    {
      "cell_type": "code",
      "source": [
        "cm = confusion_matrix(y, y_pred)\n",
        "disp = ConfusionMatrixDisplay(cm, display_labels=['Low', 'High'])\n",
        "disp.plot(cmap='Blues')\n",
        "plt.title('Collision Risk Prediction')\n",
        "plt.savefig('confusion_matrix.png', dpi=300)"
      ],
      "metadata": {
        "colab": {
          "base_uri": "https://localhost:8080/",
          "height": 472
        },
        "id": "D8J5e8cGF21Q",
        "outputId": "77e0c449-01a0-4f40-b9f0-92778ec02579"
      },
      "execution_count": null,
      "outputs": [
        {
          "output_type": "display_data",
          "data": {
            "text/plain": [
              "<Figure size 640x480 with 2 Axes>"
            ],
            "image/png": "[encoded data removed]"
          },
          "metadata": {}
        }
      ]
    },
    {
      "cell_type": "code",
      "source": [
        "from sklearn.metrics import RocCurveDisplay\n",
        "RocCurveDisplay.from_predictions(y, y_probs)\n",
        "plt.plot([0,1],[0,1],'k--')  # Random guess line\n",
        "plt.title('ROC Curve')\n",
        "plt.savefig('roc_curve.png')"
      ],
      "metadata": {
        "colab": {
          "base_uri": "https://localhost:8080/",
          "height": 472
        },
        "id": "Fjqluy7UF5tT",
        "outputId": "e6cb88c4-d8be-482a-a5da-5a31c7c10f80"
      },
      "execution_count": null,
      "outputs": [
        {
          "output_type": "display_data",
          "data": {
            "text/plain": [
              "<Figure size 640x480 with 1 Axes>"
            ],
            "image/png": "[encoded data removed]"
          },
          "metadata": {}
        }
      ]
    },
    {
      "cell_type": "code",
      "source": [
        "# ======================\n",
        "# 📊 FEATURE IMPORTANCE (Permutation Importance)\n",
        "# ======================\n",
        "import matplotlib.pyplot as plt\n",
        "from sklearn.inspection import permutation_importance\n",
        "import tensorflow as tf\n",
        "from sklearn.model_selection import train_test_split\n",
        "from sklearn.metrics import accuracy_score # Import accuracy_score\n",
        "\n",
        "# Load saved model\n",
        "model = tf.keras.models.load_model('debris_collision_model.h5')\n",
        "\n",
        "# Assume X and y are loaded as in the training phase\n",
        "X_train, X_test, y_train, y_test = train_test_split(X, y, test_size=0.2, random_state=42)\n",
        "\n",
        "# Reshape X_test similar to X_train during training\n",
        "# X_test = X_test.reshape(X_test.shape[0], X_test.shape[1], 1) # This line causes the error\n",
        "# Reshape to 2D for permutation_importance\n",
        "X_test_2D = X_test.reshape(X_test.shape[0], -1)\n",
        "\n",
        "# Define a custom scoring function to handle continuous predictions\n",
        "def custom_accuracy_scorer(estimator, X, y):\n",
        "    y_pred = (estimator.predict(X) > 0.5).astype(int)  # Convert probabilities to binary predictions\n",
        "    return accuracy_score(y, y_pred)\n",
        "\n",
        "# Calculate permutation feature importance\n",
        "result = permutation_importance(\n",
        "    model,\n",
        "    X_test_2D,\n",
        "    y_test,\n",
        "    n_repeats=10,\n",
        "    random_state=42,\n",
        "    scoring=custom_accuracy_scorer  # Use the custom scoring function\n",
        ")\n",
        "\n",
        "# Plot feature importances\n",
        "plt.bar(range(X.shape[1]), result.importances_mean)\n",
        "plt.xticks(range(X.shape[1]), ['Inclination', 'Eccentricity', 'Mean Motion'])\n",
        "plt.title(\"Feature Importance (Permutation)\")\n",
        "plt.show()"
      ],
      "metadata": {
        "colab": {
          "base_uri": "https://localhost:8080/",
          "height": 1000
        },
        "id": "8CpcNuU9PP5T",
        "outputId": "64ebd067-4c15-4519-cf33-3971605db748"
      },
      "execution_count": null,
      "outputs": [
        {
          "output_type": "stream",
          "name": "stderr",
          "text": [
            "WARNING:absl:Compiled the loaded model, but the compiled metrics have yet to be built. `model.compile_metrics` will be empty until you train or evaluate the model.\n"
          ]
        },
        {
          "output_type": "stream",
          "name": "stdout",
          "text": [
            "\r\u001b[1m1/2\u001b[0m \u001b[32m━━━━━━━━━━\u001b[0m\u001b[37m━━━━━━━━━━\u001b[0m \u001b[1m0s\u001b[0m 338ms/step"
          ]
        },
        {
          "output_type": "stream",
          "name": "stderr",
          "text": [
            "WARNING:tensorflow:5 out of the last 14 calls to <function TensorFlowTrainer.make_predict_function.<locals>.one_step_on_data_distributed at 0x7e84247f31a0> triggered tf.function retracing. Tracing is expensive and the excessive number of tracings could be due to (1) creating @tf.function repeatedly in a loop, (2) passing tensors with different shapes, (3) passing Python objects instead of tensors. For (1), please define your @tf.function outside of the loop. For (2), @tf.function has reduce_retracing=True option that can avoid unnecessary retracing. For (3), please refer to https://www.tensorflow.org/guide/function#controlling_retracing and https://www.tensorflow.org/api_docs/python/tf/function for  more details.\n"
          ]
        },
        {
          "output_type": "stream",
          "name": "stdout",
          "text": [
            "\u001b[1m2/2\u001b[0m \u001b[32m━━━━━━━━━━━━━━━━━━━━\u001b[0m\u001b[37m\u001b[0m \u001b[1m1s\u001b[0m 206ms/step\n",
            "\u001b[1m2/2\u001b[0m \u001b[32m━━━━━━━━━━━━━━━━━━━━\u001b[0m\u001b[37m\u001b[0m \u001b[1m0s\u001b[0m 23ms/step\n",
            "\u001b[1m2/2\u001b[0m \u001b[32m━━━━━━━━━━━━━━━━━━━━\u001b[0m\u001b[37m\u001b[0m \u001b[1m0s\u001b[0m 22ms/step\n",
            "\u001b[1m2/2\u001b[0m \u001b[32m━━━━━━━━━━━━━━━━━━━━\u001b[0m\u001b[37m\u001b[0m \u001b[1m0s\u001b[0m 26ms/step\n",
            "\u001b[1m2/2\u001b[0m \u001b[32m━━━━━━━━━━━━━━━━━━━━\u001b[0m\u001b[37m\u001b[0m \u001b[1m0s\u001b[0m 22ms/step\n",
            "\u001b[1m2/2\u001b[0m \u001b[32m━━━━━━━━━━━━━━━━━━━━\u001b[0m\u001b[37m\u001b[0m \u001b[1m0s\u001b[0m 21ms/step\n",
            "\u001b[1m2/2\u001b[0m \u001b[32m━━━━━━━━━━━━━━━━━━━━\u001b[0m\u001b[37m\u001b[0m \u001b[1m0s\u001b[0m 21ms/step\n",
            "\u001b[1m2/2\u001b[0m \u001b[32m━━━━━━━━━━━━━━━━━━━━\u001b[0m\u001b[37m\u001b[0m \u001b[1m0s\u001b[0m 31ms/step\n",
            "\u001b[1m2/2\u001b[0m \u001b[32m━━━━━━━━━━━━━━━━━━━━\u001b[0m\u001b[37m\u001b[0m \u001b[1m0s\u001b[0m 29ms/step\n",
            "\u001b[1m2/2\u001b[0m \u001b[32m━━━━━━━━━━━━━━━━━━━━\u001b[0m\u001b[37m\u001b[0m \u001b[1m0s\u001b[0m 34ms/step\n",
            "\u001b[1m2/2\u001b[0m \u001b[32m━━━━━━━━━━━━━━━━━━━━\u001b[0m\u001b[37m\u001b[0m \u001b[1m0s\u001b[0m 27ms/step\n",
            "\u001b[1m2/2\u001b[0m \u001b[32m━━━━━━━━━━━━━━━━━━━━\u001b[0m\u001b[37m\u001b[0m \u001b[1m0s\u001b[0m 36ms/step\n",
            "\u001b[1m2/2\u001b[0m \u001b[32m━━━━━━━━━━━━━━━━━━━━\u001b[0m\u001b[37m\u001b[0m \u001b[1m0s\u001b[0m 31ms/step\n",
            "\u001b[1m2/2\u001b[0m \u001b[32m━━━━━━━━━━━━━━━━━━━━\u001b[0m\u001b[37m\u001b[0m \u001b[1m0s\u001b[0m 37ms/step\n",
            "\u001b[1m2/2\u001b[0m \u001b[32m━━━━━━━━━━━━━━━━━━━━\u001b[0m\u001b[37m\u001b[0m \u001b[1m0s\u001b[0m 30ms/step\n",
            "\u001b[1m2/2\u001b[0m \u001b[32m━━━━━━━━━━━━━━━━━━━━\u001b[0m\u001b[37m\u001b[0m \u001b[1m0s\u001b[0m 34ms/step\n",
            "\u001b[1m2/2\u001b[0m \u001b[32m━━━━━━━━━━━━━━━━━━━━\u001b[0m\u001b[37m\u001b[0m \u001b[1m0s\u001b[0m 30ms/step\n",
            "\u001b[1m2/2\u001b[0m \u001b[32m━━━━━━━━━━━━━━━━━━━━\u001b[0m\u001b[37m\u001b[0m \u001b[1m0s\u001b[0m 36ms/step\n",
            "\u001b[1m2/2\u001b[0m \u001b[32m━━━━━━━━━━━━━━━━━━━━\u001b[0m\u001b[37m\u001b[0m \u001b[1m0s\u001b[0m 30ms/step\n",
            "\u001b[1m2/2\u001b[0m \u001b[32m━━━━━━━━━━━━━━━━━━━━\u001b[0m\u001b[37m\u001b[0m \u001b[1m0s\u001b[0m 33ms/step\n",
            "\u001b[1m2/2\u001b[0m \u001b[32m━━━━━━━━━━━━━━━━━━━━\u001b[0m\u001b[37m\u001b[0m \u001b[1m0s\u001b[0m 36ms/step\n",
            "\u001b[1m2/2\u001b[0m \u001b[32m━━━━━━━━━━━━━━━━━━━━\u001b[0m\u001b[37m\u001b[0m \u001b[1m0s\u001b[0m 30ms/step\n",
            "\u001b[1m2/2\u001b[0m \u001b[32m━━━━━━━━━━━━━━━━━━━━\u001b[0m\u001b[37m\u001b[0m \u001b[1m0s\u001b[0m 35ms/step\n",
            "\u001b[1m2/2\u001b[0m \u001b[32m━━━━━━━━━━━━━━━━━━━━\u001b[0m\u001b[37m\u001b[0m \u001b[1m0s\u001b[0m 21ms/step\n",
            "\u001b[1m2/2\u001b[0m \u001b[32m━━━━━━━━━━━━━━━━━━━━\u001b[0m\u001b[37m\u001b[0m \u001b[1m0s\u001b[0m 23ms/step\n",
            "\u001b[1m2/2\u001b[0m \u001b[32m━━━━━━━━━━━━━━━━━━━━\u001b[0m\u001b[37m\u001b[0m \u001b[1m0s\u001b[0m 24ms/step\n",
            "\u001b[1m2/2\u001b[0m \u001b[32m━━━━━━━━━━━━━━━━━━━━\u001b[0m\u001b[37m\u001b[0m \u001b[1m0s\u001b[0m 21ms/step\n",
            "\u001b[1m2/2\u001b[0m \u001b[32m━━━━━━━━━━━━━━━━━━━━\u001b[0m\u001b[37m\u001b[0m \u001b[1m0s\u001b[0m 21ms/step\n",
            "\u001b[1m2/2\u001b[0m \u001b[32m━━━━━━━━━━━━━━━━━━━━\u001b[0m\u001b[37m\u001b[0m \u001b[1m0s\u001b[0m 24ms/step\n",
            "\u001b[1m2/2\u001b[0m \u001b[32m━━━━━━━━━━━━━━━━━━━━\u001b[0m\u001b[37m\u001b[0m \u001b[1m0s\u001b[0m 21ms/step\n",
            "\u001b[1m2/2\u001b[0m \u001b[32m━━━━━━━━━━━━━━━━━━━━\u001b[0m\u001b[37m\u001b[0m \u001b[1m0s\u001b[0m 22ms/step\n"
          ]
        },
        {
          "output_type": "display_data",
          "data": {
            "text/plain": [
              "<Figure size 640x480 with 1 Axes>"
            ],
            "image/png": "[encoded data removed]"
          },
          "metadata": {}
        }
      ]
    },
    {
      "cell_type": "code",
      "source": [
        "# Load your SGP4 risk predictions (replace with actual data)\n",
        "sgp4_risk = np.random.randint(0, 2, size=len(y))  # Dummy data\n",
        "\n",
        "print(\"\\nVS SGP4 Performance:\")\n",
        "print(f\"ML Recall: {recall_score(y, y_pred):.2%}\")\n",
        "print(f\"SGP4 Recall: {recall_score(y, sgp4_risk):.2%}\")"
      ],
      "metadata": {
        "colab": {
          "base_uri": "https://localhost:8080/"
        },
        "id": "LDtNmXSgF5q0",
        "outputId": "5e066cc4-8094-4589-ed17-5912f08a8440"
      },
      "execution_count": null,
      "outputs": [
        {
          "output_type": "stream",
          "name": "stdout",
          "text": [
            "\n",
            "VS SGP4 Performance:\n",
            "ML Recall: 100.00%\n",
            "SGP4 Recall: 44.03%\n"
          ]
        }
      ]
    },
    {
      "cell_type": "code",
      "source": [
        "# Identify high-risk false negatives\n",
        "false_negatives = np.where((y == 1) & (y_pred == 0))[0]\n",
        "print(f\"\\nFalse Negatives (Missed Risks): {len(false_negatives)}\")\n",
        "for i in false_negatives[:3]:  # Show first 3\n",
        "    print(f\"- TLE {i}: Prob={y_probs[i][0]:.2f}, Features={X[i]}\")"
      ],
      "metadata": {
        "colab": {
          "base_uri": "https://localhost:8080/"
        },
        "id": "oyyU8GLBF940",
        "outputId": "b1bd33e4-1b59-4b51-f0af-0160a05c13b3"
      },
      "execution_count": null,
      "outputs": [
        {
          "output_type": "stream",
          "name": "stdout",
          "text": [
            "\n",
            "False Negatives (Missed Risks): 0\n"
          ]
        }
      ]
    },
    {
      "cell_type": "code",
      "source": [
        "# ======================\n",
        "# 🎯 OPTIMAL THRESHOLD TUNING (FINAL VERSION)\n",
        "# ======================\n",
        "import numpy as np\n",
        "from sklearn.metrics import classification_report, precision_recall_curve\n",
        "# Import matplotlib for plotting\n",
        "import matplotlib.pyplot as plt\n",
        "\n",
        "\n",
        "# 1. Load data with ALL features (shape: n_samples x 4)\n",
        "data = np.load('tle_features.npz')\n",
        "X = data['features']\n",
        "y = data['labels']\n",
        "\n",
        "# 2. Add synthetic features (if missing).\n",
        "# Ensure this is only done ONCE before fitting or predicting.\n",
        "# If you have already run a cell that adds the synthetic feature,\n",
        "# you should remove this block or ensure X_enhanced is not redefined.\n",
        "# For demonstration, assuming X is still the original 3-feature array here:\n",
        "if X.shape[1] == 3: # Check if synthetic feature is already added\n",
        "    X_enhanced = np.hstack([\n",
        "        X,\n",
        "        np.random.uniform(0.5, 1.0, size=X.shape[0]).reshape(-1, 1)  # size_proxy\n",
        "    ])\n",
        "else:\n",
        "    # If X already has 4 features, assume it's X_enhanced from a previous step\n",
        "    X_enhanced = X\n",
        "\n",
        "\n",
        "# 3. Get probabilities\n",
        "# NOTE: 'model' is not defined in this specific cell block in the traceback.\n",
        "# You need to make sure 'model' is defined (i.e., trained) in a previous cell.\n",
        "# For this code to run, a trained 'model' object (e.g., an XGBoost classifier)\n",
        "# must be available in the environment.\n",
        "# Assuming 'model' is available from a previous cell:\n",
        "try:\n",
        "    y_probs = model.predict_proba(X_enhanced)[:, 1]  # Class 1 probabilities\n",
        "except NameError:\n",
        "    print(\"Error: 'model' is not defined. Please train your model before running this cell.\")\n",
        "    # Exit or handle the error appropriately if model is missing\n",
        "    # For demonstration, let's create a dummy y_probs if model is not found\n",
        "    # In a real scenario, you MUST have a trained model\n",
        "    print(\"Using dummy probabilities for demonstration. Train a model for real results.\")\n",
        "    y_probs = np.random.rand(len(y)) # Dummy probabilities\n",
        "\n",
        "\n",
        "# 4. Find balanced threshold (customizable weights)\n",
        "def find_optimal_threshold(y_true, y_probs, recall_weight=1.5):\n",
        "    precision, recall, thresholds = precision_recall_curve(y_true, y_probs)\n",
        "    # Custom score: favors recall over precision\n",
        "    # Handle potential division by zero if precision+recall is zero\n",
        "    score = recall * recall_weight + precision\n",
        "    # Ensure optimal_idx is within the bounds of thresholds array\n",
        "    # thresholds array has one less element than precision/recall\n",
        "    optimal_idx = np.argmax(score)\n",
        "    # If the maximum score is at the last precision/recall point,\n",
        "    # which doesn't have a corresponding threshold in the 'thresholds' array\n",
        "    if optimal_idx == len(thresholds):\n",
        "         optimal_threshold = 1.0 # Or choose a suitable fallback\n",
        "    else:\n",
        "        optimal_threshold = thresholds[optimal_idx]\n",
        "\n",
        "    return optimal_threshold\n",
        "\n",
        "# Ensure y_probs is not empty before calculating threshold\n",
        "if len(y_probs) > 0:\n",
        "    optimal_threshold = find_optimal_threshold(y, y_probs, recall_weight=1.5)\n",
        "\n",
        "    # 5. Apply and evaluate\n",
        "    y_pred = (y_probs > optimal_threshold).astype(int)\n",
        "    print(f\"Optimal Threshold: {optimal_threshold:.3f}\")\n",
        "    print(\"\\nClassification Report:\")\n",
        "    # Ensure y and y_pred have the same length before calling classification_report\n",
        "    if len(y) == len(y_pred):\n",
        "        print(classification_report(y, y_pred, target_names=['Low Risk', 'High Risk']))\n",
        "    else:\n",
        "        print(\"Error: Length of true labels and predicted labels mismatch.\")\n",
        "\n",
        "    # 6. Save for production\n",
        "    np.save('optimal_threshold.npy', optimal_threshold)\n",
        "\n",
        "    # Optional: Plot the tradeoff\n",
        "    precision, recall, thresholds = precision_recall_curve(y, y_probs)\n",
        "    plt.figure(figsize=(10, 4))\n",
        "    plt.plot(thresholds, precision[:-1], label='Precision', color='blue')\n",
        "    plt.plot(thresholds, recall[:-1], label='Recall', color='red')\n",
        "    plt.axvline(optimal_threshold, color='black', linestyle='--', label=f'Optimal (={optimal_threshold:.2f})')\n",
        "    plt.xlabel('Threshold')\n",
        "    plt.ylabel('Score')\n",
        "    plt.legend()\n",
        "    plt.title('Precision-Recall Tradeoff')\n",
        "    plt.show()\n",
        "\n",
        "else:\n",
        "    print(\"No probabilities calculated. Cannot perform threshold tuning.\")"
      ],
      "metadata": {
        "colab": {
          "base_uri": "https://localhost:8080/",
          "height": 332
        },
        "id": "OBiJSZ7sLaZF",
        "outputId": "c1c19d34-99d3-4bf8-ef55-205ee3d7150e"
      },
      "execution_count": null,
      "outputs": [
        {
          "output_type": "error",
          "ename": "FileNotFoundError",
          "evalue": "[Errno 2] No such file or directory: 'tle_features.npz'",
          "traceback": [
            "\u001b[0;31m---------------------------------------------------------------------------\u001b[0m",
            "\u001b[0;31mFileNotFoundError\u001b[0m                         Traceback (most recent call last)",
            "\u001b[0;32m<ipython-input-1-fd65dd5ea95e>\u001b[0m in \u001b[0;36m<cell line: 0>\u001b[0;34m()\u001b[0m\n\u001b[1;32m      9\u001b[0m \u001b[0;34m\u001b[0m\u001b[0m\n\u001b[1;32m     10\u001b[0m \u001b[0;31m# 1. Load data with ALL features (shape: n_samples x 4)\u001b[0m\u001b[0;34m\u001b[0m\u001b[0;34m\u001b[0m\u001b[0m\n\u001b[0;32m---> 11\u001b[0;31m \u001b[0mdata\u001b[0m \u001b[0;34m=\u001b[0m \u001b[0mnp\u001b[0m\u001b[0;34m.\u001b[0m\u001b[0mload\u001b[0m\u001b[0;34m(\u001b[0m\u001b[0;34m'tle_features.npz'\u001b[0m\u001b[0;34m)\u001b[0m\u001b[0;34m\u001b[0m\u001b[0;34m\u001b[0m\u001b[0m\n\u001b[0m\u001b[1;32m     12\u001b[0m \u001b[0mX\u001b[0m \u001b[0;34m=\u001b[0m \u001b[0mdata\u001b[0m\u001b[0;34m[\u001b[0m\u001b[0;34m'features'\u001b[0m\u001b[0;34m]\u001b[0m\u001b[0;34m\u001b[0m\u001b[0;34m\u001b[0m\u001b[0m\n\u001b[1;32m     13\u001b[0m \u001b[0my\u001b[0m \u001b[0;34m=\u001b[0m \u001b[0mdata\u001b[0m\u001b[0;34m[\u001b[0m\u001b[0;34m'labels'\u001b[0m\u001b[0;34m]\u001b[0m\u001b[0;34m\u001b[0m\u001b[0;34m\u001b[0m\u001b[0m\n",
            "\u001b[0;32m/usr/local/lib/python3.11/dist-packages/numpy/lib/_npyio_impl.py\u001b[0m in \u001b[0;36mload\u001b[0;34m(file, mmap_mode, allow_pickle, fix_imports, encoding, max_header_size)\u001b[0m\n\u001b[1;32m    453\u001b[0m             \u001b[0mown_fid\u001b[0m \u001b[0;34m=\u001b[0m \u001b[0;32mFalse\u001b[0m\u001b[0;34m\u001b[0m\u001b[0;34m\u001b[0m\u001b[0m\n\u001b[1;32m    454\u001b[0m         \u001b[0;32melse\u001b[0m\u001b[0;34m:\u001b[0m\u001b[0;34m\u001b[0m\u001b[0;34m\u001b[0m\u001b[0m\n\u001b[0;32m--> 455\u001b[0;31m             \u001b[0mfid\u001b[0m \u001b[0;34m=\u001b[0m \u001b[0mstack\u001b[0m\u001b[0;34m.\u001b[0m\u001b[0menter_context\u001b[0m\u001b[0;34m(\u001b[0m\u001b[0mopen\u001b[0m\u001b[0;34m(\u001b[0m\u001b[0mos\u001b[0m\u001b[0;34m.\u001b[0m\u001b[0mfspath\u001b[0m\u001b[0;34m(\u001b[0m\u001b[0mfile\u001b[0m\u001b[0;34m)\u001b[0m\u001b[0;34m,\u001b[0m \u001b[0;34m\"rb\"\u001b[0m\u001b[0;34m)\u001b[0m\u001b[0;34m)\u001b[0m\u001b[0;34m\u001b[0m\u001b[0;34m\u001b[0m\u001b[0m\n\u001b[0m\u001b[1;32m    456\u001b[0m             \u001b[0mown_fid\u001b[0m \u001b[0;34m=\u001b[0m \u001b[0;32mTrue\u001b[0m\u001b[0;34m\u001b[0m\u001b[0;34m\u001b[0m\u001b[0m\n\u001b[1;32m    457\u001b[0m \u001b[0;34m\u001b[0m\u001b[0m\n",
            "\u001b[0;31mFileNotFoundError\u001b[0m: [Errno 2] No such file or directory: 'tle_features.npz'"
          ]
        }
      ]
    }
  ]
}